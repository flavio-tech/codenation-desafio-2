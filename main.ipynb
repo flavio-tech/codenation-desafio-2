{
 "cells": [
  {
   "cell_type": "markdown",
   "metadata": {},
   "source": [
    "# Desafio 1\n",
    "\n",
    "Para esse desafio, vamos trabalhar com o data set [Black Friday](https://www.kaggle.com/mehdidag/black-friday), que reúne dados sobre transações de compras em uma loja de varejo.\n",
    "\n",
    "Vamos utilizá-lo para praticar a exploração de data sets utilizando pandas. Você pode fazer toda análise neste mesmo notebook, mas as resposta devem estar nos locais indicados.\n",
    "\n",
    "> Obs.: Por favor, não modifique o nome das funções de resposta."
   ]
  },
  {
   "cell_type": "markdown",
   "metadata": {},
   "source": [
    "## _Set up_ da análise"
   ]
  },
  {
   "cell_type": "code",
   "execution_count": null,
   "metadata": {},
   "outputs": [],
   "source": [
    "import pandas as pd\n",
    "import numpy as np"
   ]
  },
  {
   "cell_type": "code",
   "execution_count": null,
   "metadata": {},
   "outputs": [],
   "source": [
    "black_friday = pd.read_csv(\"black_friday.csv\")"
   ]
  },
  {
   "cell_type": "markdown",
   "metadata": {},
   "source": [
    "## Inicie sua análise a partir daqui"
   ]
  },
  {
   "cell_type": "code",
   "execution_count": null,
   "metadata": {},
   "outputs": [],
   "source": [
    "# Analisando as colunas de nosso data set\n",
    "black_friday.columns\n"
   ]
  },
  {
   "cell_type": "markdown",
   "metadata": {},
   "source": [
    "## Questão 1\n",
    "\n",
    "Quantas observações e quantas colunas há no dataset? Responda no formato de uma tuple `(n_observacoes, n_colunas)`."
   ]
  },
  {
   "cell_type": "code",
   "execution_count": null,
   "metadata": {},
   "outputs": [],
   "source": [
    "# vamos ver o tamanho deste data set\n",
    "black_friday.shape"
   ]
  },
  {
   "cell_type": "code",
   "execution_count": null,
   "metadata": {},
   "outputs": [],
   "source": [
    "def q1():\n",
    "    # Retorne aqui o resultado da questão 1.\n",
    "    return black_friday.shape\n",
    "    "
   ]
  },
  {
   "cell_type": "markdown",
   "metadata": {},
   "source": [
    "## Questão 2\n",
    "\n",
    "Há quantas mulheres com idade entre 26 e 35 anos no dataset? Responda como um único escalar."
   ]
  },
  {
   "cell_type": "code",
   "execution_count": null,
   "metadata": {},
   "outputs": [],
   "source": [
    "#investigando Q2 usando um agrupador...\n",
    "black_friday.groupby('Gender')['Age'].value_counts()\n",
    "\n",
    "#nossa resposta está na primeira linha da serie, vamos indexar e passar como return"
   ]
  },
  {
   "cell_type": "code",
   "execution_count": null,
   "metadata": {},
   "outputs": [],
   "source": [
    "def q2():\n",
    "    # Retorne aqui o resultado da questão 2.\n",
    "    return int(black_friday.groupby('Gender')['Age'].value_counts()[0])"
   ]
  },
  {
   "cell_type": "markdown",
   "metadata": {},
   "source": [
    "## Questão 3\n",
    "\n",
    "Quantos usuários únicos há no dataset? Responda como um único escalar."
   ]
  },
  {
   "cell_type": "code",
   "execution_count": null,
   "metadata": {},
   "outputs": [],
   "source": [
    "# Vamos observar a coluna user id usando nunique ou value_counts\n",
    "black_friday['User_ID'].value_counts()\n",
    "#neste caso basta perguntar qual o tamanho do data frame\n",
    "tamanho = len(black_friday['User_ID'].value_counts(dropna=False))\n",
    "print(tamanho)\n",
    "\n",
    "# ou mais diretamente\n",
    "black_friday['User_ID'].nunique()"
   ]
  },
  {
   "cell_type": "code",
   "execution_count": null,
   "metadata": {},
   "outputs": [],
   "source": [
    "def q3():\n",
    "    # Retorne aqui o resultado da questão 3.\n",
    "    return black_friday['User_ID'].nunique()"
   ]
  },
  {
   "cell_type": "markdown",
   "metadata": {},
   "source": [
    "## Questão 4\n",
    "\n",
    "Quantos tipos de dados diferentes existem no dataset? Responda como um único escalar."
   ]
  },
  {
   "cell_type": "code",
   "execution_count": null,
   "metadata": {},
   "outputs": [],
   "source": [
    "# Descrevendo os tipos de dados...\n",
    "print(black_friday.dtypes)\n",
    "\n",
    "# e quais são únicos\n",
    "len(black_friday.dtypes.unique())"
   ]
  },
  {
   "cell_type": "code",
   "execution_count": null,
   "metadata": {},
   "outputs": [],
   "source": [
    "def q4():\n",
    "    # Retorne aqui o resultado da questão 4.\n",
    "    return len(black_friday.dtypes.unique())"
   ]
  },
  {
   "cell_type": "markdown",
   "metadata": {},
   "source": [
    "## Questão 5\n",
    "\n",
    "Qual porcentagem dos registros possui ao menos um valor null (`None`, `ǸaN` etc)? Responda como um único escalar entre 0 e 1."
   ]
  },
  {
   "cell_type": "code",
   "execution_count": null,
   "metadata": {},
   "outputs": [],
   "source": [
    "# Quantos registros no total? Entenda-se 'registro' como numero de linhas...\n",
    "total_registros = black_friday.shape[0]\n",
    "print(total_registros)\n",
    "\n",
    "#Quantos registros nulos em todo data set? vamos remover os 'registros' nulos e depois contar\n",
    "sem_nulos = black_friday.dropna(axis=0)\n",
    "print(sem_nulos.shape)\n",
    "\n",
    "# subtraia e divida pelo total\n",
    "perc = (black_friday.shape[0] - sem_nulos.shape[0]) / black_friday.shape[0]\n",
    "print(perc)"
   ]
  },
  {
   "cell_type": "code",
   "execution_count": null,
   "metadata": {},
   "outputs": [],
   "source": [
    "def q5():\n",
    "    # Retorne aqui o resultado da questão 5.\n",
    "    return float((black_friday.shape[0] - sem_nulos.shape[0]) / black_friday.shape[0])"
   ]
  },
  {
   "cell_type": "markdown",
   "metadata": {},
   "source": [
    "## Questão 6\n",
    "\n",
    "Quantos valores null existem na variável (coluna) com o maior número de null? Responda como um único escalar."
   ]
  },
  {
   "cell_type": "code",
   "execution_count": null,
   "metadata": {},
   "outputs": [],
   "source": [
    "# inspecionando quantos valores nulos por coluna\n",
    "black_friday.isna().sum()\n",
    "\n",
    "#basta agora retornar o valor máximo desta série"
   ]
  },
  {
   "cell_type": "code",
   "execution_count": null,
   "metadata": {},
   "outputs": [],
   "source": [
    "def q6():\n",
    "    # Retorne aqui o resultado da questão 6.\n",
    "    return int(black_friday.isnull().sum().max())"
   ]
  },
  {
   "cell_type": "markdown",
   "metadata": {},
   "source": [
    "## Questão 7\n",
    "\n",
    "Qual o valor mais frequente (sem contar nulls) em `Product_Category_3`? Responda como um único escalar."
   ]
  },
  {
   "cell_type": "code",
   "execution_count": null,
   "metadata": {},
   "outputs": [],
   "source": [
    "# Construindo uma tabela de frequencia e ordenando do maior para o menor...\n",
    "black_friday['Product_Category_3'].value_counts().sort_values(ascending=False)\n",
    "\n",
    "#neste precisamos do indice do maior valor\n",
    "#black_friday['Product_Category_3'].value_counts().sort_values(ascending=False).index[0]\n",
    "\n"
   ]
  },
  {
   "cell_type": "code",
   "execution_count": null,
   "metadata": {},
   "outputs": [],
   "source": [
    "def q7():\n",
    "    # Retorne aqui o resultado da questão 7.\n",
    "    return black_friday['Product_Category_3'].value_counts().sort_values(ascending=False).index[0]"
   ]
  },
  {
   "cell_type": "markdown",
   "metadata": {},
   "source": [
    "## Questão 8\n",
    "\n",
    "Qual a nova média da variável (coluna) `Purchase` após sua normalização? Responda como um único escalar."
   ]
  },
  {
   "cell_type": "code",
   "execution_count": null,
   "metadata": {},
   "outputs": [],
   "source": [
    "# Com a colaboração do @dspaulolima da nossa comunidade, soubemos que:\n",
    "# A normalização fica num range de 0 a 1. Pode-se utilizar a fórmula do MinMax:\n",
    "# normalizados  = ( dados - min(dados) ) / ( max(dados) - min(dados) ) \n",
    "\n",
    "# clone do data frame senão a 1a resposta vai estar sempre errada!!!\n",
    "df = black_friday.copy()\n",
    "\n",
    "#criando uma nova coluna\n",
    "df['Purchase_normalizado'] = (df['Purchase'] - df['Purchase'].min())/(df['Purchase'].max() - df['Purchase'].min())\n",
    "mean_purchase_normalizado = df['Purchase_normalizado'].mean()\n",
    "print(mean_purchase_normalizado)"
   ]
  },
  {
   "cell_type": "code",
   "execution_count": null,
   "metadata": {},
   "outputs": [],
   "source": [
    "def q8():\n",
    "    # Retorne aqui o resultado da questão 8.\n",
    "    return df['Purchase_normalizado'].mean()"
   ]
  },
  {
   "cell_type": "markdown",
   "metadata": {},
   "source": [
    "## Questão 9\n",
    "\n",
    "Quantas ocorrências entre -1 e 1 inclusive existem da variáel `Purchase` após sua padronização? Responda como um único escalar."
   ]
  },
  {
   "cell_type": "code",
   "execution_count": null,
   "metadata": {},
   "outputs": [],
   "source": [
    "# A outra definição...\n",
    "#A padronização pode ser calculada a fórmula do z-score. Ela nos retorna valores em que a média é 0 e o desvio padrão é 1, escalando os valores entre negativos e positivos.\n",
    "# padronizados = ( dados - dados.mean() ) / dados.std()\n",
    "df['Purchase_padronizado'] = (df['Purchase'] - df['Purchase'].mean())/df['Purchase'].std()\n",
    "\n",
    "#vamos contar quantos temos dentro do range definido\n",
    "range_1 = (df['Purchase_padronizado'] <= 1) & (df['Purchase_padronizado'] >= -1)\n",
    "print(range_1.sum())"
   ]
  },
  {
   "cell_type": "code",
   "execution_count": null,
   "metadata": {},
   "outputs": [],
   "source": [
    "def q9():\n",
    "    # Retorne aqui o resultado da questão 9.\n",
    "    return int(range_1.sum())"
   ]
  },
  {
   "cell_type": "markdown",
   "metadata": {},
   "source": [
    "## Questão 10\n",
    "\n",
    "Podemos afirmar que se uma observação é null em `Product_Category_2` ela também o é em `Product_Category_3`? Responda com um bool (`True`, `False`)."
   ]
  },
  {
   "cell_type": "code",
   "execution_count": null,
   "metadata": {},
   "outputs": [],
   "source": [
    "# Definir onde estão os nulls da category_2 e com eles indexar - criar uma máscara - para category_3\n",
    "\n",
    "cat2_null = black_friday[black_friday['Product_Category_2'].isnull()]\n",
    "\n",
    "# existe algum - any - True neste nesta máscara? Inverta para responder\n",
    "any_true = cat2_null['Product_Category_3'].notnull().any()\n",
    "\n",
    "print(any_true)"
   ]
  },
  {
   "cell_type": "code",
   "execution_count": null,
   "metadata": {},
   "outputs": [],
   "source": [
    "def q10():\n",
    "    # Retorne aqui o resultado da questão 10.\n",
    "    return bool(~any_true)"
   ]
  }
 ],
 "metadata": {
  "kernelspec": {
   "display_name": "Python 3",
   "language": "python",
   "name": "python3"
  },
  "language_info": {
   "codemirror_mode": {
    "name": "ipython",
    "version": 3
   },
   "file_extension": ".py",
   "mimetype": "text/x-python",
   "name": "python",
   "nbconvert_exporter": "python",
   "pygments_lexer": "ipython3",
   "version": "3.8.2"
  }
 },
 "nbformat": 4,
 "nbformat_minor": 2
}
